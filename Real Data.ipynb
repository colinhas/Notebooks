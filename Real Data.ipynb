{
 "cells": [
  {
   "cell_type": "code",
   "execution_count": 59,
   "id": "d079b0f5",
   "metadata": {
    "scrolled": false
   },
   "outputs": [
    {
     "name": "stdout",
     "output_type": "stream",
     "text": [
      "[[2.02126407e+06 1.25000000e+01]\n",
      " [2.12514073e+06 1.25000000e+00]\n",
      " [0.00000000e+00 1.25000000e-01]\n",
      " [0.00000000e+00 0.00000000e+00]\n",
      " [0.00000000e+00 1.25000000e+01]\n",
      " [0.00000000e+00 1.25000000e+00]\n",
      " [2.71815318e+06 1.25000000e-01]\n",
      " [2.29968319e+06 0.00000000e+00]\n",
      " [1.37129001e+06 1.25000000e+01]\n",
      " [9.86980299e+06 1.25000000e+00]\n",
      " [1.33333333e+05 1.25000000e-01]\n",
      " [6.87365218e+06 0.00000000e+00]\n",
      " [2.96941929e+06 1.25000000e+01]\n",
      " [2.32428520e+06 1.25000000e+00]\n",
      " [3.91052290e+05 1.25000000e-01]\n",
      " [7.15026374e+06 0.00000000e+00]\n",
      " [5.72887225e+06 1.25000000e+01]\n",
      " [1.80996790e+07 1.25000000e+00]\n",
      " [8.73378713e+05 1.25000000e-01]\n",
      " [1.49628479e+06 0.00000000e+00]\n",
      " [6.25768190e+06 1.25000000e+01]\n",
      " [3.51874299e+06 1.25000000e+00]\n",
      " [           nan 1.25000000e-01]\n",
      " [1.94959840e+07 0.00000000e+00]\n",
      " [3.02375556e+11 1.25000000e+01]\n",
      " [1.99817470e+11 1.25000000e+00]\n",
      " [1.85661353e+07 1.25000000e-01]\n",
      " [1.26029434e+11 0.00000000e+00]\n",
      " [2.21139682e+08 1.25000000e+01]\n",
      " [4.38678534e+09 1.25000000e+00]\n",
      " [3.19325532e+08 1.25000000e-01]\n",
      " [           nan 0.00000000e+00]\n",
      " [1.00250024e+11 1.25000000e+01]\n",
      " [1.54772225e+10 1.25000000e+00]\n",
      " [           nan 1.25000000e-01]\n",
      " [           nan 0.00000000e+00]\n",
      " [3.64094295e+06 1.25000000e+01]\n",
      " [5.98950508e+07 1.25000000e+00]\n",
      " [1.05373196e+07 1.25000000e-01]\n",
      " [9.29973278e+10 0.00000000e+00]\n",
      " [9.27693768e+08 1.25000000e+01]\n",
      " [1.72553378e+11 1.25000000e+00]\n",
      " [4.43693471e+11 1.25000000e-01]\n",
      " [2.81081732e+11 0.00000000e+00]\n",
      " [9.07096414e+11 1.25000000e+01]\n",
      " [1.36480348e+11 1.25000000e+00]\n",
      " [1.65207303e+11 1.25000000e-01]\n",
      " [           nan 0.00000000e+00]\n",
      " [1.27919568e+11 1.25000000e+01]\n",
      " [1.96899426e+11 1.25000000e+00]\n",
      " [           nan 1.25000000e-01]\n",
      " [6.29784687e+06 0.00000000e+00]\n",
      " [6.46529121e+09 1.25000000e+01]\n",
      " [2.93602772e+09 1.25000000e+00]\n",
      " [4.96303945e+08 1.25000000e-01]\n",
      " [9.30133191e+08 0.00000000e+00]\n",
      " [7.58093735e+10 1.25000000e+01]\n",
      " [9.85258912e+10 1.25000000e+00]\n",
      " [4.63733367e+10 1.25000000e-01]\n",
      " [2.00786625e+10 0.00000000e+00]\n",
      " [4.78870749e+11 1.25000000e+01]\n",
      " [1.41347256e+11 1.25000000e+00]\n",
      " [1.27632247e+10 1.25000000e-01]\n",
      " [5.17861234e+10 0.00000000e+00]]\n"
     ]
    }
   ],
   "source": [
    "import csv\n",
    "import numpy as np\n",
    "\n",
    "\n",
    "data = np.empty((64, 2))\n",
    "with open('CFUs_per_condition.csv', 'r')as file:\n",
    "    filecontent=csv.reader(file)\n",
    "    i = 0\n",
    "    for row in filecontent:\n",
    "        if i != 0:\n",
    "            data[i-1, 0] = row[1]\n",
    "            data[i-1, 1] = row[11]\n",
    "        #print(row)\n",
    "        i += 1\n",
    "print(data)"
   ]
  },
  {
   "cell_type": "code",
   "execution_count": 60,
   "id": "3bb0798a",
   "metadata": {},
   "outputs": [],
   "source": [
    "x = data[:,0]\n",
    "y = data[:,1]"
   ]
  },
  {
   "cell_type": "code",
   "execution_count": 62,
   "id": "1eb1e174",
   "metadata": {
    "scrolled": true
   },
   "outputs": [
    {
     "name": "stderr",
     "output_type": "stream",
     "text": [
      "No artists with labels found to put in legend.  Note that artists whose label start with an underscore are ignored when legend() is called with no argument.\n"
     ]
    },
    {
     "data": {
      "text/plain": [
       "<matplotlib.legend.Legend at 0x1c22a2bdfa0>"
      ]
     },
     "execution_count": 62,
     "metadata": {},
     "output_type": "execute_result"
    },
    {
     "data": {
      "image/png": "[encoded data removed]",
      "text/plain": [
       "<Figure size 144x144 with 1 Axes>"
      ]
     },
     "metadata": {
      "needs_background": "light"
     },
     "output_type": "display_data"
    }
   ],
   "source": [
    "fig, ax = plt.subplots()\n",
    "ax.plot(x)\n",
    "ax.plot(y)\n"
   ]
  },
  {
   "cell_type": "code",
   "execution_count": 46,
   "id": "a4fe7583",
   "metadata": {},
   "outputs": [],
   "source": [
    "import matplotlib.pyplot as plt\n",
    "import numpy as np\n",
    "import matplotlib as mpl"
   ]
  },
  {
   "cell_type": "code",
   "execution_count": 37,
   "id": "feb27634",
   "metadata": {},
   "outputs": [],
   "source": [
    "ax=plt.subplots"
   ]
  },
  {
   "cell_type": "code",
   "execution_count": null,
   "id": "de2541b8",
   "metadata": {},
   "outputs": [],
   "source": [
    "a = int(input(\"0:\"))\n",
    "b = int(input(\"2:\"))\n",
    "print(\":\")\n",
    "val = list(map(int, input().split()))\n",
    "matrix = np.array(val).reshape(a,b)\n",
    "print(matrix)"
   ]
  },
  {
   "cell_type": "code",
   "execution_count": null,
   "id": "c1cfb5a4",
   "metadata": {},
   "outputs": [],
   "source": []
  }
 ],
 "metadata": {
  "kernelspec": {
   "display_name": "Python 3 (ipykernel)",
   "language": "python",
   "name": "python3"
  },
  "language_info": {
   "codemirror_mode": {
    "name": "ipython",
    "version": 3
   },
   "file_extension": ".py",
   "mimetype": "text/x-python",
   "name": "python",
   "nbconvert_exporter": "python",
   "pygments_lexer": "ipython3",
   "version": "3.9.12"
  }
 },
 "nbformat": 4,
 "nbformat_minor": 5
}
