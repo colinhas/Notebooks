{
 "cells": [
  {
   "cell_type": "code",
   "execution_count": 15,
   "id": "364f2fe2",
   "metadata": {
    "scrolled": false
   },
   "outputs": [
    {
     "name": "stdout",
     "output_type": "stream",
     "text": [
      "['Well', 'CFUs', 'Colonies Counted', 'CellType', 'drug1', 'drug1_conc', 'drug1_units', 'drug2', 'drug2_conc', 'drug2_units', 'drug3', 'drug3_conc', 'drug3_units', 'exp_id']\n",
      "['A1', '2021264.06842998', '9', 'BW25113', 'Cipro', '25', 'ug/mL', 'DPI', '0', 'ug/mL', 'Aceitic Acid', '12.5', 'ug/mL', '48h']\n",
      "['B1', '2125140.7263757', '12', 'BW25113', 'Cipro', '25', 'ug/mL', 'DPI', '0', 'ug/mL', 'Aceitic Acid', '1.25', 'ug/mL', '48h']\n",
      "['C1', '0', 'NaN', 'BW25113', 'Cipro', '25', 'ug/mL', 'DPI', '0', 'ug/mL', 'Aceitic Acid', '0.125', 'ug/mL', '48h']\n",
      "['D1', '0', 'NaN', 'BW25113', 'Cipro', '25', 'ug/mL', 'DPI', '0', 'ug/mL', 'Aceitic Acid', '0', 'ug/mL', '48h']\n",
      "['E1', '0', 'NaN', 'BW25113', 'Cipro', '25', 'ug/mL', 'DPI', '0', 'ug/mL', 'Aceitic Acid', '12.5', 'ug/mL', '48h']\n",
      "['F1', '0', 'NaN', 'BW25113', 'Cipro', '25', 'ug/mL', 'DPI', '0', 'ug/mL', 'Aceitic Acid', '1.25', 'ug/mL', '48h']\n",
      "['G1', '2718153.17717435', '6', 'BW25113', 'Cipro', '25', 'ug/mL', 'DPI', '0', 'ug/mL', 'Aceitic Acid', '0.125', 'ug/mL', '48h']\n",
      "['H1', '2299683.19394372', '4', 'BW25113', 'Cipro', '25', 'ug/mL', 'DPI', '0', 'ug/mL', 'Aceitic Acid', '0', 'ug/mL', '48h']\n",
      "['A2', '1371290.01322757', '13', 'BW25113', 'Cipro', '2.5', 'ug/mL', 'DPI', '0', 'ug/mL', 'Aceitic Acid', '12.5', 'ug/mL', '48h']\n",
      "['B2', '9869802.98800467', '16', 'BW25113', 'Cipro', '2.5', 'ug/mL', 'DPI', '0', 'ug/mL', 'Aceitic Acid', '1.25', 'ug/mL', '48h']\n",
      "['C2', '133333.333333333', '2', 'BW25113', 'Cipro', '2.5', 'ug/mL', 'DPI', '0', 'ug/mL', 'Aceitic Acid', '0.125', 'ug/mL', '48h']\n",
      "['D2', '6873652.18080127', '18', 'BW25113', 'Cipro', '2.5', 'ug/mL', 'DPI', '0', 'ug/mL', 'Aceitic Acid', '0', 'ug/mL', '48h']\n",
      "['E2', '2969419.28754414', '17', 'BW25113', 'Cipro', '2.5', 'ug/mL', 'DPI', '0', 'ug/mL', 'Aceitic Acid', '12.5', 'ug/mL', '48h']\n",
      "['F2', '2324285.19972298', '14', 'BW25113', 'Cipro', '2.5', 'ug/mL', 'DPI', '0', 'ug/mL', 'Aceitic Acid', '1.25', 'ug/mL', '48h']\n",
      "['G2', '391052.290381384', '3', 'BW25113', 'Cipro', '2.5', 'ug/mL', 'DPI', '0', 'ug/mL', 'Aceitic Acid', '0.125', 'ug/mL', '48h']\n",
      "['H2', '7150263.73800093', '12', 'BW25113', 'Cipro', '2.5', 'ug/mL', 'DPI', '0', 'ug/mL', 'Aceitic Acid', '0', 'ug/mL', '48h']\n",
      "['A3', '5728872.24875725', '25', 'BW25113', 'Cipro', '0.25', 'ug/mL', 'DPI', '0', 'ug/mL', 'Aceitic Acid', '12.5', 'ug/mL', '48h']\n",
      "['B3', '18099679.0498026', '20', 'BW25113', 'Cipro', '0.25', 'ug/mL', 'DPI', '0', 'ug/mL', 'Aceitic Acid', '1.25', 'ug/mL', '48h']\n",
      "['C3', '873378.713350638', '8', 'BW25113', 'Cipro', '0.25', 'ug/mL', 'DPI', '0', 'ug/mL', 'Aceitic Acid', '0.125', 'ug/mL', '48h']\n",
      "['D3', '1496284.79048878', '17', 'BW25113', 'Cipro', '0.25', 'ug/mL', 'DPI', '0', 'ug/mL', 'Aceitic Acid', '0', 'ug/mL', '48h']\n",
      "['E3', '6257681.89700191', '9', 'BW25113', 'Cipro', '0.25', 'ug/mL', 'DPI', '0', 'ug/mL', 'Aceitic Acid', '12.5', 'ug/mL', '48h']\n",
      "['F3', '3518742.99301569', '20', 'BW25113', 'Cipro', '0.25', 'ug/mL', 'DPI', '0', 'ug/mL', 'Aceitic Acid', '1.25', 'ug/mL', '48h']\n",
      "['G3', 'NaN', 'NaN', 'BW25113', 'Cipro', '0.25', 'ug/mL', 'DPI', '0', 'ug/mL', 'Aceitic Acid', '0.125', 'ug/mL', '48h']\n",
      "['H3', '19495984.0130413', '12', 'BW25113', 'Cipro', '0.25', 'ug/mL', 'DPI', '0', 'ug/mL', 'Aceitic Acid', '0', 'ug/mL', '48h']\n",
      "['A4', '302375556460.353', '20', 'BW25113', 'Cipro', '0', 'ug/mL', 'DPI', '0', 'ug/mL', 'Aceitic Acid', '12.5', 'ug/mL', '48h']\n",
      "['B4', '199817469626.162', '14', 'BW25113', 'Cipro', '0', 'ug/mL', 'DPI', '0', 'ug/mL', 'Aceitic Acid', '1.25', 'ug/mL', '48h']\n",
      "['C4', '18566135.2862619', '14', 'BW25113', 'Cipro', '0', 'ug/mL', 'DPI', '0', 'ug/mL', 'Aceitic Acid', '0.125', 'ug/mL', '48h']\n",
      "['D4', '126029434152.281', '13', 'BW25113', 'Cipro', '0', 'ug/mL', 'DPI', '0', 'ug/mL', 'Aceitic Acid', '0', 'ug/mL', '48h']\n",
      "['E4', '221139681.672474', '15', 'BW25113', 'Cipro', '0', 'ug/mL', 'DPI', '0', 'ug/mL', 'Aceitic Acid', '12.5', 'ug/mL', '48h']\n",
      "['F4', '4386785340.15528', '6', 'BW25113', 'Cipro', '0', 'ug/mL', 'DPI', '0', 'ug/mL', 'Aceitic Acid', '1.25', 'ug/mL', '48h']\n",
      "['G4', '319325531.592956', '5', 'BW25113', 'Cipro', '0', 'ug/mL', 'DPI', '0', 'ug/mL', 'Aceitic Acid', '0.125', 'ug/mL', '48h']\n",
      "['H4', 'NaN', 'NaN', 'BW25113', 'Cipro', '0', 'ug/mL', 'DPI', '0', 'ug/mL', 'Aceitic Acid', '0', 'ug/mL', '48h']\n",
      "['A5', '100250023706.066', '11', 'BW25113', 'Cipro', '0', 'ug/mL', 'DPI', '10', 'ug/mL', 'Aceitic Acid', '12.5', 'ug/mL', '48h']\n",
      "['B5', '15477222462.3406', '13', 'BW25113', 'Cipro', '0', 'ug/mL', 'DPI', '10', 'ug/mL', 'Aceitic Acid', '1.25', 'ug/mL', '48h']\n",
      "['C5', 'NaN', 'NaN', 'BW25113', 'Cipro', '0', 'ug/mL', 'DPI', '10', 'ug/mL', 'Aceitic Acid', '0.125', 'ug/mL', '48h']\n",
      "['D5', 'NaN', 'NaN', 'BW25113', 'Cipro', '0', 'ug/mL', 'DPI', '10', 'ug/mL', 'Aceitic Acid', '0', 'ug/mL', '48h']\n",
      "['E5', '3640942.95369063', '8', 'BW25113', 'Cipro', '0', 'ug/mL', 'DPI', '10', 'ug/mL', 'Aceitic Acid', '12.5', 'ug/mL', '48h']\n",
      "['F5', '59895050.8129768', '3', 'BW25113', 'Cipro', '0', 'ug/mL', 'DPI', '10', 'ug/mL', 'Aceitic Acid', '1.25', 'ug/mL', '48h']\n",
      "['G5', '10537319.5973935', '14', 'BW25113', 'Cipro', '0', 'ug/mL', 'DPI', '10', 'ug/mL', 'Aceitic Acid', '0.125', 'ug/mL', '48h']\n",
      "['H5', '92997327786.7934', '17', 'BW25113', 'Cipro', '0', 'ug/mL', 'DPI', '10', 'ug/mL', 'Aceitic Acid', '0', 'ug/mL', '48h']\n",
      "['A6', '927693767.669602', '18', 'BW25113', 'Cipro', '0', 'ug/mL', 'DPI', '1', 'ug/mL', 'Aceitic Acid', '12.5', 'ug/mL', '48h']\n",
      "['B6', '172553377565.903', '16', 'BW25113', 'Cipro', '0', 'ug/mL', 'DPI', '1', 'ug/mL', 'Aceitic Acid', '1.25', 'ug/mL', '48h']\n",
      "['C6', '443693470626.912', '16', 'BW25113', 'Cipro', '0', 'ug/mL', 'DPI', '1', 'ug/mL', 'Aceitic Acid', '0.125', 'ug/mL', '48h']\n",
      "['D6', '281081732064.97', '16', 'BW25113', 'Cipro', '0', 'ug/mL', 'DPI', '1', 'ug/mL', 'Aceitic Acid', '0', 'ug/mL', '48h']\n",
      "['E6', '907096414293.865', '15', 'BW25113', 'Cipro', '0', 'ug/mL', 'DPI', '1', 'ug/mL', 'Aceitic Acid', '12.5', 'ug/mL', '48h']\n",
      "['F6', '136480347852.795', '12', 'BW25113', 'Cipro', '0', 'ug/mL', 'DPI', '1', 'ug/mL', 'Aceitic Acid', '1.25', 'ug/mL', '48h']\n",
      "['G6', '165207302666.506', '15', 'BW25113', 'Cipro', '0', 'ug/mL', 'DPI', '1', 'ug/mL', 'Aceitic Acid', '0.125', 'ug/mL', '48h']\n",
      "['H6', 'NaN', 'NaN', 'BW25113', 'Cipro', '0', 'ug/mL', 'DPI', '1', 'ug/mL', 'Aceitic Acid', '0', 'ug/mL', '48h']\n",
      "['A7', '127919567722.462', '19', 'BW25113', 'Cipro', '0', 'ug/mL', 'DPI', '0.1', 'ug/mL', 'Aceitic Acid', '12.5', 'ug/mL', '48h']\n",
      "['B7', '196899426473.619', '20', 'BW25113', 'Cipro', '0', 'ug/mL', 'DPI', '0.1', 'ug/mL', 'Aceitic Acid', '1.25', 'ug/mL', '48h']\n",
      "['C7', 'NaN', 'NaN', 'BW25113', 'Cipro', '0', 'ug/mL', 'DPI', '0.1', 'ug/mL', 'Aceitic Acid', '0.125', 'ug/mL', '48h']\n",
      "['D7', '6297846.87361236', '8', 'BW25113', 'Cipro', '0', 'ug/mL', 'DPI', '0.1', 'ug/mL', 'Aceitic Acid', '0', 'ug/mL', '48h']\n",
      "['E7', '6465291205.84266', '6', 'BW25113', 'Cipro', '0', 'ug/mL', 'DPI', '0.1', 'ug/mL', 'Aceitic Acid', '12.5', 'ug/mL', '48h']\n",
      "['F7', '2936027722.27881', '8', 'BW25113', 'Cipro', '0', 'ug/mL', 'DPI', '0.1', 'ug/mL', 'Aceitic Acid', '1.25', 'ug/mL', '48h']\n",
      "['G7', '496303944.616617', '4', 'BW25113', 'Cipro', '0', 'ug/mL', 'DPI', '0.1', 'ug/mL', 'Aceitic Acid', '0.125', 'ug/mL', '48h']\n",
      "['H7', '930133191.079416', '4', 'BW25113', 'Cipro', '0', 'ug/mL', 'DPI', '0.1', 'ug/mL', 'Aceitic Acid', '0', 'ug/mL', '48h']\n",
      "['A8', '75809373535.4808', '21', 'BW25113', 'Cipro', '0', 'ug/mL', 'DPI', '0', 'ug/mL', 'Aceitic Acid', '12.5', 'ug/mL', '48h']\n",
      "['B8', '98525891170.9675', '15', 'BW25113', 'Cipro', '0', 'ug/mL', 'DPI', '0', 'ug/mL', 'Aceitic Acid', '1.25', 'ug/mL', '48h']\n",
      "['C8', '46373336720.2953', '11', 'BW25113', 'Cipro', '0', 'ug/mL', 'DPI', '0', 'ug/mL', 'Aceitic Acid', '0.125', 'ug/mL', '48h']\n",
      "['D8', '20078662528.6596', '14', 'BW25113', 'Cipro', '0', 'ug/mL', 'DPI', '0', 'ug/mL', 'Aceitic Acid', '0', 'ug/mL', '48h']\n",
      "['E8', '478870749090.229', '15', 'BW25113', 'Cipro', '0', 'ug/mL', 'DPI', '0', 'ug/mL', 'Aceitic Acid', '12.5', 'ug/mL', '48h']\n",
      "['F8', '141347255659.137', '13', 'BW25113', 'Cipro', '0', 'ug/mL', 'DPI', '0', 'ug/mL', 'Aceitic Acid', '1.25', 'ug/mL', '48h']\n",
      "['G8', '12763224691.59', '5', 'BW25113', 'Cipro', '0', 'ug/mL', 'DPI', '0', 'ug/mL', 'Aceitic Acid', '0.125', 'ug/mL', '48h']\n",
      "['H8', '51786123393.4613', '5', 'BW25113', 'Cipro', '0', 'ug/mL', 'DPI', '0', 'ug/mL', 'Aceitic Acid', '0', 'ug/mL', '48h']\n"
     ]
    }
   ],
   "source": [
    "import csv\n",
    "with open('CFUs_per_condition.csv', 'r')as file:\n",
    "    filecontent=csv.reader(file)\n",
    "    for row in filecontent:\n",
    "        print(row)"
   ]
  },
  {
   "cell_type": "code",
   "execution_count": 26,
   "id": "036ba82e",
   "metadata": {},
   "outputs": [],
   "source": [
    "x = 'drug3_conc'\n",
    "y = 'CFUs'"
   ]
  },
  {
   "cell_type": "code",
   "execution_count": 28,
   "id": "28ab135f",
   "metadata": {},
   "outputs": [
    {
     "data": {
      "text/plain": [
       "[<matplotlib.lines.Line2D at 0x1c225b7b940>]"
      ]
     },
     "execution_count": 28,
     "metadata": {},
     "output_type": "execute_result"
    },
    {
     "data": {
      "image/png": "[encoded data removed]",
      "text/plain": [
       "<Figure size 432x288 with 1 Axes>"
      ]
     },
     "metadata": {
      "needs_background": "light"
     },
     "output_type": "display_data"
    }
   ],
   "source": [
    "fig, ax = plt.subplots()\n",
    "ax.plot(x)\n",
    "ax.plot(y)"
   ]
  },
  {
   "cell_type": "code",
   "execution_count": 19,
   "id": "bb92ecc8",
   "metadata": {},
   "outputs": [],
   "source": [
    "import matplotlib.pyplot as plt"
   ]
  },
  {
   "cell_type": "code",
   "execution_count": 21,
   "id": "79013fd3",
   "metadata": {},
   "outputs": [],
   "source": [
    "ax=plt.subplots"
   ]
  }
 ],
 "metadata": {
  "kernelspec": {
   "display_name": "Python 3 (ipykernel)",
   "language": "python",
   "name": "python3"
  },
  "language_info": {
   "codemirror_mode": {
    "name": "ipython",
    "version": 3
   },
   "file_extension": ".py",
   "mimetype": "text/x-python",
   "name": "python",
   "nbconvert_exporter": "python",
   "pygments_lexer": "ipython3",
   "version": "3.9.12"
  }
 },
 "nbformat": 4,
 "nbformat_minor": 5
}
